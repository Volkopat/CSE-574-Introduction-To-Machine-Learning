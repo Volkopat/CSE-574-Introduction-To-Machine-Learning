{
 "cells": [
  {
   "cell_type": "markdown",
   "metadata": {
    "id": "KH1K6cXFvnmj"
   },
   "source": [
    "<div align=\"center\"> <h3><font color='cyan'>CSE 574 Sections C&D: Introduction to Machine Learning, Spring 2022 </font> \n",
    "<h1> Assignment 1 - Python Intro\n",
    "\n",
    "<h3>Checkpoint: February 13, Sun, 11:59pm\n",
    "<h2><font color='red'>Final Due Date: </font> February 20, Sun, 11:59pm</div>\n",
    "\n",
    "Welcome to your first CSE 574 assignment! The goal of this assignment is to sharpen your programming skills needed for this class. It is focused on familiarizing yourself with Python and main data science libraries that will be used for other assignments as well.\n",
    "\n",
    "There are a total of five parts. We will focus on basic Python functions, explore numpy, pandas and matplotlib libraries and analyze the real-world dataset.\n",
    "\n",
    "If you are new to Python, check our [Python resources page](https://ubuffalo-my.sharepoint.com/:w:/g/personal/avereshc_buffalo_edu/ESoUg6v6aoJImaeWXy90SqMBiubxGGAkG7dhaNyhuBum_w?e=3Tlwbz) and our class demos.\n",
    "\n",
    "\n",
    "### Submission\n",
    "\n",
    "All the details you need for this assignment are located within this notebook. You are expected to follow every block and complete the task within the marks ``` # BEGIN_YOUR_CODE ``` and ```# END_YOUR_CODE```, as well as adding an Academic Integrity statement at the beginning within the marks ```# ADD YOUR ACADEMIC INTERGITY STATEMENT``` and ```# END OF YOUR ACADEMIC INTERGITY STATEMENT```. Do not modify or edit code beyond these lines. You can add helper functions in the new cells, if needed. We recommend completing the task within this .ipynb notebook, if needed you can convert it and submit as .py script. Try to make your code as clean and simple as possible and be sure to write your answers between the begin answer and end answer comments.\n",
    "\n",
    "1. Submit at **UBLearns > Assignments**\n",
    "2. The code of your implementations should be written in Python\n",
    "3. All project files should be packed in a ZIP file named YOUR_FIRST_NAME_YOUR_LAST_NAME_assignment1.zip (e.g. alina_vereshchaka_assignment1.zip).\n",
    "4. Your Jupyter notebook should be saved with the results. If you are submitting python scripts, after extracting the ZIP file and executing command python main.py in the first level directory, all the generated results and plots you used in your report should appear printed out in a clear manner.  \n",
    "6. Include all the references that have been used to complete the assignment.\n",
    "\n",
    "### Checkpoint Submission <font color='red'>[Due Date: Feb 13]</font>\n",
    "Complete Part 1, Part 2 and Part 3 and submit the code in the ZIP file named YOUR_FIRST_NAME_YOUR_LAST_NAME_assignment1_checkpoint.zip. Checkpoint will be evaluated after the final submission.\n",
    "\n",
    "### Final Submission <font color='red'>[Due Date: Feb 20]</font>\n",
    "Complete all parts of the assignment and submit the code in the ZIP file named YOUR_FIRST_NAME_YOUR_LAST_NAME_assignment1_final.zip. You may add slight modification to your Checkpoint submission if needed.\n",
    "\n",
    "**Assignment Outline**\n",
    "\n",
    "| Part | Description | # of tasks | Points |\n",
    "| --- | --- | --- | --- |\n",
    "| [Part 1](#part1) | Basics | 10 | 20 |\n",
    "| [Part 2](#part2) | Numpy Basics | 11 | 20 |\n",
    "| [Part 3](#part3) | Algorithms | 2 | 20 |\n",
    "| [Part 4](#part4) | Pandas Basics | 8 | 20 |\n",
    "| [Part 5](#part5) | Matplotlib Basics | 9 | 20 |\n",
    "\n",
    "    \n",
    "### Academic Integrity\n",
    "\n",
    "This assignment must be completed individually.\n",
    "The standing policy of the Department is that all students involved in any academic integrity violation (e.g. plagiarism in any way, shape, or form) will receive an F grade for the course. The catalog describes plagiarism as “Copying or receiving material from any source and submitting that material as one’s own, without acknowledging and citing the particular debts to the source, or in any other manner representing the work of another as one’s own.”. Refer to the [Office of Academic Integrity](https://www.buffalo.edu/academic-integrity.html) for more details.\n",
    "\n",
    "### <font color='red'>IMPORTANT NOTE</font>\n",
    "In order to certify that you followed Academic Integrity policy while completing the assignment, please include the following statement as a comment block. In case you submit multiple files, add this statement at the beginning of each code file submitted: \n",
    "\n",
    "\"I certify that the code and data in this assignment were generated independently, using only the tools and resources defined in the course and that I did not receive any external help, coaching or contributions during the production of this work.\"\n",
    "\n",
    "Submissions without the academic integrity statement will not be evaluated and will receive a 0.\n",
    "\n",
    "### Late Days Policy\n",
    "You can use up to 7 late days throughout the course toward any assignments' checkpoint or final submission. You do not have to inform the instructor, as the late submission will be tracked in UBlearns.\n",
    "\n",
    "### FAQ\n",
    ">What does 'raise Exception(\"Not implemented yet\")' mean?\n",
    "\n",
    "Here we define a custom exception to highlight that the task is not implemented yet. Once you implement your code, ensure to remove this part.\n",
    "\n",
    ">Can I add code beyond # BEGIN_YOUR_CODE parts.\n",
    "\n",
    "Yes, you can add helper functions. Add them in the separate cell with the comments, why you need it\n"
   ]
  },
  {
   "cell_type": "markdown",
   "metadata": {},
   "source": [
    "## START COMPLETING YOUR ASSIGNMENT HERE"
   ]
  },
  {
   "cell_type": "code",
   "execution_count": 2,
   "metadata": {},
   "outputs": [],
   "source": [
    "# ADD YOUR ACADEMIC INTERGITY STATEMENT HERE AS A COMMENT BLOCK BELOW. CHECK IMPORTANT NOTE FOR MORE DETAILS.\n",
    "\n",
    "# I certify that the code and data in this assignment were generated independently, using only the tools and resources defined in the course and that I did not receive any external help, coaching or contributions during the production of this work.\n",
    "\n",
    "# END OF YOUR ACADEMIC INTERGITY STATEMENT"
   ]
  },
  {
   "cell_type": "markdown",
   "metadata": {
    "id": "RiMGYifjvnmy"
   },
   "source": [
    "<a id='part1'></a>\n",
    "## Part 1 - Python Basics [20 points]"
   ]
  },
  {
   "cell_type": "markdown",
   "metadata": {
    "id": "2LUCpwD6vnm1"
   },
   "source": [
    "The first part of this assignment gives you practice with python syntax. Follow the cells below for the instructions."
   ]
  },
  {
   "cell_type": "code",
   "execution_count": 3,
   "metadata": {
    "colab": {
     "base_uri": "https://localhost:8080/"
    },
    "id": "pYW7jZF2vnm2",
    "outputId": "353842fc-3622-46f3-a307-132850f3dab9"
   },
   "outputs": [
    {
     "name": "stdout",
     "output_type": "stream",
     "text": [
      "Hello\n",
      "Hello\n",
      "Hello\n",
      "Hello\n",
      "Hello\n",
      "Hello\n",
      "Hello\n",
      "Hello\n",
      "Hello\n",
      "Hello\n",
      "Hello\n",
      "Hello\n",
      "Hello\n",
      "Hello\n",
      "Hello\n",
      "Hello\n",
      "Hello\n",
      "Hello\n",
      "Hello\n",
      "Hello\n",
      "Hello\n",
      "Hello\n",
      "Hello\n",
      "Hello\n",
      "Hello\n",
      "Hello\n",
      "Hello\n",
      "Hello\n",
      "Hello\n",
      "Hello\n",
      "Hello\n",
      "Hello\n",
      "Hello\n",
      "Hello\n",
      "Hello\n",
      "Hello\n",
      "Hello\n",
      "Hello\n",
      "Hello\n",
      "Hello\n",
      "Hello\n",
      "Hello\n",
      "Hello\n",
      "Hello\n",
      "Hello\n",
      "Hello\n",
      "Hello\n",
      "Hello\n",
      "Hello\n",
      "Hello\n",
      "Hello\n",
      "Hello\n",
      "Hello\n",
      "Hello\n",
      "Hello\n",
      "Hello\n",
      "Hello\n",
      "Hello\n",
      "Hello\n",
      "Hello\n",
      "Hello\n",
      "Hello\n",
      "Hello\n",
      "Hello\n",
      "Hello\n",
      "Hello\n",
      "Hello\n",
      "Hello\n",
      "Hello\n",
      "Hello\n",
      "Hello\n",
      "Hello\n",
      "Hello\n",
      "Hello\n",
      "Hello\n",
      "Hello\n",
      "Hello\n",
      "Hello\n",
      "Hello\n",
      "Hello\n",
      "Hello\n",
      "Hello\n",
      "Hello\n",
      "Hello\n",
      "Hello\n",
      "Hello\n",
      "Hello\n",
      "Hello\n",
      "Hello\n",
      "Hello\n",
      "Hello\n",
      "Hello\n",
      "Hello\n",
      "Hello\n",
      "Hello\n",
      "Hello\n",
      "Hello\n",
      "Hello\n",
      "Hello\n",
      "Hello\n",
      "Hello\n"
     ]
    }
   ],
   "source": [
    "''' Hello\n",
    "Print a word \"Hello \" 101 times\n",
    "'''\n",
    "\n",
    "# BEGIN_YOUR_CODE\n",
    "for i in range(101):\n",
    "    print(\"Hello\")\n",
    "# END_YOUR_CODE"
   ]
  },
  {
   "cell_type": "code",
   "execution_count": 4,
   "metadata": {},
   "outputs": [
    {
     "name": "stdout",
     "output_type": "stream",
     "text": [
      "Hello UB\n"
     ]
    }
   ],
   "source": [
    "''' Hello World\n",
    "Using two variables hello and world defined below return 'Hello UB'. \n",
    "'''\n",
    "\n",
    "hello  = 'hello'\n",
    "world = 'ub'\n",
    "\n",
    "# BEGIN_YOUR_CODE\n",
    "print(hello.capitalize() + \" \" + world.upper() )\n",
    "# END_YOUR_CODE"
   ]
  },
  {
   "cell_type": "code",
   "execution_count": 5,
   "metadata": {},
   "outputs": [
    {
     "name": "stdout",
     "output_type": "stream",
     "text": [
      "[0, 1, 2, 3, 4, 5]\n"
     ]
    }
   ],
   "source": [
    "''' Updating elements\n",
    "Given a string my_list, update the third element to '2' and fourth element to '3', so the output is as follows: [0, 1, 2, 3, 4, 5]\n",
    "'''\n",
    "\n",
    "my_list = [0, 1, 'two', 'three', 4, 5]\n",
    "\n",
    "# BEGIN_YOUR_CODE\n",
    "my_list[2] = 2\n",
    "my_list[3] = 3\n",
    "print(my_list)\n",
    "# END_YOUR_CODE"
   ]
  },
  {
   "cell_type": "code",
   "execution_count": 6,
   "metadata": {},
   "outputs": [
    {
     "name": "stdout",
     "output_type": "stream",
     "text": [
      "[0, 1, 1, 2, 3, 5, 8, 13, 21, 34, 55, 89]\n"
     ]
    }
   ],
   "source": [
    "'''Fibonacci Series\n",
    "Print the first 12 Fibonacci numbers\n",
    "'''\n",
    "import numpy as np\n",
    "# BEGIN_YOUR_CODE\n",
    "my_list = [0]\n",
    "n = np.size(my_list)\n",
    "sum = 1\n",
    "for i in range(12-n):\n",
    "    sum += my_list[i]\n",
    "    my_list.append(sum);\n",
    "    sum = my_list[i]\n",
    "print(my_list)\n",
    "# END_YOUR_CODE"
   ]
  },
  {
   "cell_type": "code",
   "execution_count": 7,
   "metadata": {
    "colab": {
     "base_uri": "https://localhost:8080/"
    },
    "id": "eQ7SJvrLvnm5",
    "outputId": "826dcd4e-03ea-4491-fa66-4bbd4123e4ba"
   },
   "outputs": [
    {
     "name": "stdout",
     "output_type": "stream",
     "text": [
      "['The Matrix Resurrections', 'The Matrix Revolutions', 'The Matrix Reloaded', 'The Matrix']\n"
     ]
    }
   ],
   "source": [
    "''' Reversing\n",
    "Reverse the order of elements in a list given below, so the output is as follows: ['The Matrix Resurrections', 'The Matrix Revolutions', 'The Matrix Reloaded', 'The Matrix']\n",
    "'''\n",
    "\n",
    "list1 = [\"The Matrix\", \"The Matrix Reloaded\", \"The Matrix Revolutions\", \"The Matrix Resurrections\"]\n",
    "\n",
    "# BEGIN_YOUR_CODE\n",
    "import numpy as np\n",
    "n = np.size(list1)\n",
    "list2 = []\n",
    "while(n>0):\n",
    "    list2.append(list1[n-1])\n",
    "    n-=1\n",
    "list1 = list2\n",
    "print(list1)\n",
    "# END_YOUR_CODE"
   ]
  },
  {
   "cell_type": "code",
   "execution_count": 8,
   "metadata": {
    "colab": {
     "base_uri": "https://localhost:8080/"
    },
    "id": "G472Jj3gvnm6",
    "outputId": "4c979e16-2581-4332-8c33-813f04f45352"
   },
   "outputs": [
    {
     "name": "stdout",
     "output_type": "stream",
     "text": [
      "python\n"
     ]
    }
   ],
   "source": [
    "'''Concatenating strings\n",
    "Concatenate strings in a list below, so the output is as follows: \"python\"\n",
    "'''\n",
    "\n",
    "list2 = ['p', 'y', 't', 'h', 'o', 'n']\n",
    "\n",
    "# BEGIN_YOUR_CODE\n",
    "import numpy as np\n",
    "n = np.size(list2)\n",
    "string = \"\"\n",
    "for i in range(n):\n",
    "    string += list2[i]\n",
    "print(string)\n",
    "# END_YOUR_CODE"
   ]
  },
  {
   "cell_type": "code",
   "execution_count": 9,
   "metadata": {
    "colab": {
     "base_uri": "https://localhost:8080/"
    },
    "id": "vsIKrnuFvnm7",
    "outputId": "1aac4459-3c65-4312-bbc3-698b616f8bf5"
   },
   "outputs": [
    {
     "name": "stdout",
     "output_type": "stream",
     "text": [
      "1 Yann LeCun\n",
      "2 Yoshua Bengio\n",
      "3 Geoffrey Hinton\n",
      "4 Fei-Fei Li\n",
      "5 Andrew Ng\n"
     ]
    }
   ],
   "source": [
    "'''Numbering a list\n",
    "Print a numbered list of the famous AI researchers using \"enumerate()\" function\n",
    "'''\n",
    "\n",
    "researchers = ['Yann LeCun', 'Yoshua Bengio', 'Geoffrey Hinton', 'Fei-Fei Li', 'Andrew Ng']\n",
    "\n",
    "# BEGIN_YOUR_CODE\n",
    "for i,j in enumerate(researchers, start=1):print(i,j)\n",
    "# END_YOUR_CODE"
   ]
  },
  {
   "cell_type": "code",
   "execution_count": 10,
   "metadata": {
    "colab": {
     "base_uri": "https://localhost:8080/"
    },
    "id": "Izsh0n6Hvnm8",
    "outputId": "db845742-d150-411b-bdbb-6cbc5f461fd6"
   },
   "outputs": [
    {
     "name": "stdout",
     "output_type": "stream",
     "text": [
      "Yann LeCun  =  Facebook\n",
      "Yoshua Bengio  =  Université de Montréal\n",
      "Geoffrey Hinton  =  University of Toronto\n",
      "Fei-Fei Li  =  Stanford University\n",
      "Andrew Ng  =  Landing AI\n"
     ]
    }
   ],
   "source": [
    "'''Combining lists\n",
    "Combine two lists given below using zip() fucntion and print out the result\n",
    "'''\n",
    "\n",
    "researchers = ['Yann LeCun', 'Yoshua Bengio', 'Geoffrey Hinton', 'Fei-Fei Li', 'Andrew Ng']\n",
    "work = ['Facebook', 'Université de Montréal', 'University of Toronto', 'Stanford University', 'Landing AI']\n",
    "\n",
    "# BEGIN_YOUR_CODE\n",
    "for i,j in zip(researchers,work):print(i,\" = \",j)\n",
    "# END_YOUR_CODE"
   ]
  },
  {
   "cell_type": "code",
   "execution_count": 11,
   "metadata": {},
   "outputs": [
    {
     "name": "stdout",
     "output_type": "stream",
     "text": [
      "[1, 4, 27, 16, 125, 36, 343, 64, 729, 100, 1331, 144]\n"
     ]
    }
   ],
   "source": [
    "'''Print squares of even numbers and cubes of odd numbers for numbers from 1 till 12.\n",
    "So the output comes in the form as follows: [1, 4, 27, 16, 125, 36, ....]\n",
    "'''\n",
    "\n",
    "# BEGIN_YOUR_CODE\n",
    "print([(i+1)**2 if (i+1)%2==0 else ((i+1)**3) for i in range(12)])\n",
    "# END_YOUR_CODE"
   ]
  },
  {
   "cell_type": "code",
   "execution_count": 12,
   "metadata": {
    "id": "tM242AlVvnm9"
   },
   "outputs": [],
   "source": [
    "''' Sum function\n",
    "Modify the function below to return a sum of a and b\n",
    "'''\n",
    "\n",
    "def add(a: int, b: int) -> int:\n",
    "    \n",
    "    # BEGIN_YOUR_CODE\n",
    "    return a+b\n",
    "    # END_YOUR_CODE"
   ]
  },
  {
   "cell_type": "markdown",
   "metadata": {
    "id": "o4HwFdtlvnm_"
   },
   "source": [
    "We defined ```add_test``` to test your ```add``` function. For this function we ```import random``` library. This is a very commonly used package that helps to generate random values. For example:\n",
    "\n",
    "``` python\n",
    "random.randint(0, 100) #Returns any random integer from 0 to 100\n",
    "```"
   ]
  },
  {
   "cell_type": "code",
   "execution_count": 13,
   "metadata": {
    "id": "TfVs9QUIvnnA"
   },
   "outputs": [],
   "source": [
    "import random\n",
    "\n",
    "def add_test():\n",
    "    a = random.randint(0, 9)\n",
    "    b = random.randint(0, 9)\n",
    "    result = add(a, b)\n",
    "\n",
    "    return('Value of a is {0}, value of b is {1}, and their sum is {2}.'.format(a, b,result))"
   ]
  },
  {
   "cell_type": "code",
   "execution_count": 14,
   "metadata": {
    "colab": {
     "base_uri": "https://localhost:8080/"
    },
    "id": "cOLrlf2GvnnB",
    "outputId": "a02426b5-11ff-46f3-daa9-8026dd110f2d"
   },
   "outputs": [
    {
     "name": "stdout",
     "output_type": "stream",
     "text": [
      "Value of a is 5, value of b is 7, and their sum is 12.\n"
     ]
    }
   ],
   "source": [
    "# Here we call our function 'add_test' to test your add function with random values\n",
    "if __name__ == '__main__':\n",
    "    print(add_test())"
   ]
  },
  {
   "cell_type": "markdown",
   "metadata": {
    "id": "12yDhDMxvnnB"
   },
   "source": [
    "<a id='part2'></a>\n",
    "## Part 2 - Numpy Basics [20 points]"
   ]
  },
  {
   "cell_type": "markdown",
   "metadata": {
    "id": "-JmI82NyvnnC"
   },
   "source": [
    "In this section we will explore one of the most commonly used package - Numpy. You can refer to the [Official NumPy Guide](https://numpy.org/doc/stable/)."
   ]
  },
  {
   "cell_type": "code",
   "execution_count": 15,
   "metadata": {
    "id": "CstiC-8CvnnC"
   },
   "outputs": [],
   "source": [
    "'''Import the numpy package\n",
    "'''\n",
    "\n",
    "# BEGIN_YOUR_CODE\n",
    "import numpy as np\n",
    "# END_YOUR_CODE"
   ]
  },
  {
   "cell_type": "code",
   "execution_count": 16,
   "metadata": {
    "colab": {
     "base_uri": "https://localhost:8080/"
    },
    "id": "2Cdaj9aTvnnE",
    "outputId": "2c7e7f65-9309-40bb-97db-c3372c80f247"
   },
   "outputs": [
    {
     "name": "stdout",
     "output_type": "stream",
     "text": [
      "[35, 38, 31, 39, 3, 7, 32, 13, 21, 7]\n"
     ]
    }
   ],
   "source": [
    "''' Random integers\n",
    "Create an array of random integers from 0 to 50 with the length 10 using numpy random generator\n",
    "'''\n",
    "\n",
    "# BEGIN_YOUR_CODE\n",
    "array = [np.random.randint(0,50) for i in range(10)]\n",
    "# END_YOUR_CODE\n",
    "\n",
    "print(array)"
   ]
  },
  {
   "cell_type": "code",
   "execution_count": 17,
   "metadata": {
    "colab": {
     "base_uri": "https://localhost:8080/"
    },
    "id": "D_NEdSyVvnnF",
    "outputId": "5fcabe8d-b205-43a1-8300-43d9f0c0911e"
   },
   "outputs": [
    {
     "name": "stdout",
     "output_type": "stream",
     "text": [
      "The first 2 elements are [35, 38] \n",
      "The last two elements are [31, 39, 3, 7, 32, 13] \n",
      "Elements in the middle are [21, 7].\n"
     ]
    }
   ],
   "source": [
    "''' Slicing\n",
    "Slice the above array and extract the first 2 elements, the last two elements, and all elements that are left in the middle.\n",
    "'''\n",
    "\n",
    "# BEGIN_YOUR_CODE\n",
    "first_two = array[:2]\n",
    "last_two = array[2:-2]\n",
    "middle = array[-2:]\n",
    "# END_YOUR_CODE\n",
    "\n",
    "print('The first 2 elements are {0} \\nThe last two elements are {1} \\nElements in the middle are {2}.'.format(first_two, last_two, middle))"
   ]
  },
  {
   "cell_type": "code",
   "execution_count": 18,
   "metadata": {},
   "outputs": [
    {
     "name": "stdout",
     "output_type": "stream",
     "text": [
      "[array([35, 38]), array([31, 39]), array([3, 7]), array([32, 13]), array([21,  7])]\n"
     ]
    }
   ],
   "source": [
    "'''Split an array\n",
    "For the above list 'array' split the list into 5 equal parts  and print it in the form\n",
    "[array([1,2]), array([3,4]), array([5,6]), array([7,8]), array([9,10])]\n",
    "\n",
    "'''\n",
    "\n",
    "# BEGIN_YOUR_CODE\n",
    "# result = []\n",
    "# count = 0\n",
    "# temp = []\n",
    "# for i in array:\n",
    "#     if count == 2:\n",
    "#         count = 0\n",
    "#         result.append(temp)\n",
    "#         temp = []\n",
    "#     temp.append(i)\n",
    "#     count += 1\n",
    "# result.append(temp)\n",
    "# print(result)\n",
    "\n",
    "print(np.array_split(array,5))\n",
    "\n",
    "# END_YOUR_CODE"
   ]
  },
  {
   "cell_type": "code",
   "execution_count": 19,
   "metadata": {},
   "outputs": [
    {
     "name": "stdout",
     "output_type": "stream",
     "text": [
      "[63, 40, 52, 9, 83, 37, 83, 36, 76, 0]\n",
      "[92, 25, 37, 77, 73, 82, 37, 15, 94, 21]\n",
      "[0, 36, 40, 9, 76, 83, 52, 63]\n",
      "[37]\n"
     ]
    }
   ],
   "source": [
    "'''Generate two arrays of size 10 (integers randomly selected between 1 and 100). \n",
    "Print unique elements of array1 and common elements of both arrays separately\n",
    "'''\n",
    "\n",
    "# BEGIN_YOUR_CODE\n",
    "array1 = [np.random.randint(0,100) for i in range(10)]\n",
    "array2 = [np.random.randint(0,100) for i in range(10)]\n",
    "unique_elements_array1 = list(set(array1) - set(array2))\n",
    "common_elements_array1_array2 = np.intersect1d(array1,array2)\n",
    "print(array1)\n",
    "print(array2)\n",
    "print(unique_elements_array1)\n",
    "print(common_elements_array1_array2)\n",
    "# END_YOUR_CODE"
   ]
  },
  {
   "cell_type": "code",
   "execution_count": 20,
   "metadata": {
    "colab": {
     "base_uri": "https://localhost:8080/"
    },
    "id": "x39Fry3OvnnF",
    "outputId": "e84ec16d-d351-4405-d0e5-e84d5477aefb"
   },
   "outputs": [
    {
     "name": "stdout",
     "output_type": "stream",
     "text": [
      "[35, 38, 31, 39, 3, 7, 32, 13, 21, 7]\n",
      "[[35 38]\n",
      " [31 39]\n",
      " [ 3  7]\n",
      " [32 13]\n",
      " [21  7]]\n"
     ]
    }
   ],
   "source": [
    "'''Changing dimensions\n",
    "Convert your 1D array defined above to a 2D matrix and print its shape. The final output dimension should be 5x2.\n",
    "'''\n",
    "\n",
    "# BEGIN_YOUR_CODE\n",
    "print(array)\n",
    "print(np.reshape(array, (5, 2)))\n",
    "# END_YOUR_CODE"
   ]
  },
  {
   "cell_type": "code",
   "execution_count": 21,
   "metadata": {
    "colab": {
     "base_uri": "https://localhost:8080/"
    },
    "id": "GTPk6XwivnnG",
    "outputId": "c5273563-fcb2-4bda-8067-341aff65524a"
   },
   "outputs": [
    {
     "name": "stdout",
     "output_type": "stream",
     "text": [
      "[1 2 3 4 5 6]\n"
     ]
    }
   ],
   "source": [
    "'''Changing dimensions\n",
    "Convert a matrix below to 1D array and print its dimension\n",
    "'''\n",
    "\n",
    "A = np.array([[1,2], [3,4], [5,6]])\n",
    "\n",
    "# BEGIN_YOUR_CODE\n",
    "print(A.flatten())\n",
    "# END_YOUR_CODE"
   ]
  },
  {
   "cell_type": "code",
   "execution_count": 22,
   "metadata": {
    "colab": {
     "base_uri": "https://localhost:8080/"
    },
    "id": "ALyMwuojvnnM",
    "outputId": "8e914965-f014-479a-843c-1407a63dd7f0"
   },
   "outputs": [
    {
     "name": "stdout",
     "output_type": "stream",
     "text": [
      "\n",
      "Matrix A is \n",
      "[[0.85834075 0.01167838 0.28030062 0.58632027 0.96558647 0.36915759]\n",
      " [0.03070572 0.90230239 0.67749225 0.0788528  0.11037386 0.5485436 ]\n",
      " [0.21183109 0.99546436 0.22939439 0.68703953 0.20402045 0.95060943]\n",
      " [0.4650221  0.15558537 0.98813359 0.7481398  0.28317527 0.64142289]\n",
      " [0.14063596 0.58100384 0.41752414 0.08765985 0.23722761 0.95842593]] \n",
      "Matrix B is \n",
      "[[0.11725272 0.29715001 0.60619405 0.86378504 0.89034104]\n",
      " [0.34160087 0.08395005 0.4837284  0.22314279 0.85333432]\n",
      " [0.77523106 0.51417813 0.47862992 0.88636152 0.73925382]\n",
      " [0.71043994 0.3448423  0.12354438 0.35524512 0.04574676]\n",
      " [0.74165861 0.53506965 0.45681231 0.0566708  0.47323742]\n",
      " [0.46042439 0.51736277 0.85064252 0.70101087 0.96635144]], \n",
      "Their product is \n",
      "[[1.62457991 1.30999325 1.48767998 1.51426699 1.82190474]\n",
      " [1.2274834  0.80326975 1.30612744 1.24717055 1.8840691 ]\n",
      " [1.61982053 1.10235984 1.70644787 1.53045058 2.25424924]\n",
      " [1.91055957 1.40067647 1.59751299 2.04370568 2.06535017]\n",
      " [1.21814068 0.95826307 1.50061651 1.337655   1.97211222]]\n"
     ]
    }
   ],
   "source": [
    "''' Matrices\n",
    "Create two matrices A and B of size 5X6 and 6X5 respectively with random values from 0 to 1, and perform the dot product on them\n",
    "'''\n",
    "\n",
    "# BEGIN_YOUR_CODE\n",
    "A = np.reshape([np.random.rand(30)], (5, 6))\n",
    "B = np.reshape([np.random.rand(30)], (6, 5))\n",
    "dot_product = A.dot(B)\n",
    "# END_YOUR_CODE\n",
    "\n",
    "print('\\nMatrix A is \\n{0} \\nMatrix B is \\n{1}, \\nTheir product is \\n{2}'.format(A, B, dot_product))"
   ]
  },
  {
   "cell_type": "code",
   "execution_count": 23,
   "metadata": {
    "colab": {
     "base_uri": "https://localhost:8080/"
    },
    "id": "cf2kSBLXvnnN",
    "outputId": "ed32eeca-dac9-4632-e946-149e1ad60923"
   },
   "outputs": [
    {
     "name": "stdout",
     "output_type": "stream",
     "text": [
      "[1.82190474 1.8840691  2.25424924 2.06535017 1.97211222]\n"
     ]
    }
   ],
   "source": [
    "''' Maximum value\n",
    "Return the maximum value present in each row of Matrix A created in the previous question. \n",
    "Result should come in the form: [row1_max row2_max row3_max row4_max row5_max]\n",
    "'''\n",
    "\n",
    "# BEGIN_YOUR_CODE\n",
    "print(np.max(dot_product,axis=1))\n",
    "# END_YOUR_CODE"
   ]
  },
  {
   "cell_type": "code",
   "execution_count": 24,
   "metadata": {
    "colab": {
     "base_uri": "https://localhost:8080/"
    },
    "id": "khuCG55GvnnO",
    "outputId": "37cc6fd7-43fa-460b-cf3a-56d2ac2001e9"
   },
   "outputs": [
    {
     "name": "stdout",
     "output_type": "stream",
     "text": [
      "[[2.57502224 0.03503514 0.84090187 1.75896082 2.89675942 1.10747278]\n",
      " [0.09211716 2.70690717 2.03247674 0.23655839 0.33112159 1.6456308 ]\n",
      " [0.63549327 2.98639307 0.68818317 2.06111859 0.61206136 2.8518283 ]\n",
      " [1.3950663  0.46675612 2.96440076 2.2444194  0.84952582 1.92426866]\n",
      " [0.42190789 1.74301151 1.25257243 0.26297954 0.71168284 2.87527778]]\n"
     ]
    }
   ],
   "source": [
    "''' Multiply the Matrix A from previous question with a scalar 3\n",
    "'''\n",
    "\n",
    "# BEGIN_YOUR_CODE\n",
    "print(np.multiply(A,3))\n",
    "# END_YOUR_CODE"
   ]
  },
  {
   "cell_type": "code",
   "execution_count": 25,
   "metadata": {
    "colab": {
     "base_uri": "https://localhost:8080/"
    },
    "id": "KVFM3ERnvnnP",
    "outputId": "e1ea4298-aada-4028-9e86-66f2148d022d"
   },
   "outputs": [
    {
     "name": "stdout",
     "output_type": "stream",
     "text": [
      "\n",
      "Matrix A is \n",
      "[[0.59884368 0.17504717 0.44446821 0.84809809]\n",
      " [0.11436383 0.83841153 0.28552508 0.37549057]] \n",
      "Matrix B is \n",
      "[[0.9046217  0.12481295 0.87370885 0.28646011]\n",
      " [0.38842467 0.67292852 0.15546332 0.04291894]], \n",
      "Their element-wise multiplication is \n",
      "[[0.54172699 0.02184815 0.38833581 0.24294628]\n",
      " [0.04442173 0.56419104 0.04438868 0.01611566]]\n"
     ]
    }
   ],
   "source": [
    "''' Element-wise multiplication\n",
    "Define two matrices A and B 2x4 with random values from 0 to 9. Perform element-wise multiplication of Matrices A and B\n",
    "''' \n",
    "\n",
    "# BEGIN_YOUR_CODE\n",
    "A = np.reshape([np.random.rand(8)], (2, 4))\n",
    "B = np.reshape([np.random.rand(8)], (2, 4))\n",
    "multiplicaiton = np.multiply(A,B)\n",
    "# END_YOUR_CODE\n",
    "\n",
    "print('\\nMatrix A is \\n{0} \\nMatrix B is \\n{1}, \\nTheir element-wise multiplication is \\n{2}'.format(A, B, multiplicaiton))"
   ]
  },
  {
   "cell_type": "markdown",
   "metadata": {
    "id": "uiyFNoJivnnQ"
   },
   "source": [
    "<a id='part3'></a>\n",
    "## Part 3 - Algorithms [30 points]"
   ]
  },
  {
   "cell_type": "markdown",
   "metadata": {
    "id": "bE9PC_sEvnnQ"
   },
   "source": [
    "### Euclidian Distance\n",
    "\n",
    "Let point $p$ have Cartesian coordinates $(p_1,p_2)$ and let point $q$ have coordinates $(q_1,q_2)$. Then the distance between $p$ and $q$ is given by:\n",
    "    $d(p,q) = \\sqrt{(q_1-p_1)^2 + (q_2-p_2)^2}$.</math>"
   ]
  },
  {
   "cell_type": "code",
   "execution_count": 26,
   "metadata": {
    "id": "eWfSpbVqvnnR"
   },
   "outputs": [],
   "source": [
    "''' Euclidean distance\n",
    "Using numpy library return the Euclidean distance between two locations, where the locations are pairs of numbers (e.g., (3, 5)) '''\n",
    "\n",
    "def euclidean_distance(loc1: int, loc2: int) -> float:\n",
    "\n",
    "    # BEGIN_YOUR_CODE\n",
    "    x1,y1 = loc1\n",
    "    x2,y2 = loc2\n",
    "    return np.sqrt(np.power(y2-y1,2)+np.power(x2-x1,2))\n",
    "    \n",
    "    # END_YOUR_CODE"
   ]
  },
  {
   "cell_type": "code",
   "execution_count": 27,
   "metadata": {
    "id": "aKXPrvGBvnnR"
   },
   "outputs": [],
   "source": [
    "def euclidean_distance_test():\n",
    "    np.random.seed(34)\n",
    "    for _ in range(10):\n",
    "        x1 = np.random.randint(0, 10)\n",
    "        x2 = np.random.randint(0, 10)\n",
    "        y1 = np.random.randint(0, 10)\n",
    "        y2 = np.random.randint(0, 10)\n",
    "        dist = euclidean_distance((x1, x2), (y1, y2))\n",
    "    return('Loc1 is ({0}, {1}), loc2 is ({2}, {3}). Euclidian disctance is {4}.'.format(x1, x2, y1, y2, dist))"
   ]
  },
  {
   "cell_type": "code",
   "execution_count": 28,
   "metadata": {
    "colab": {
     "base_uri": "https://localhost:8080/"
    },
    "id": "yI3g4R1hvnnR",
    "outputId": "3cc7c267-1e95-4d8c-a9b4-ee112feb311b"
   },
   "outputs": [
    {
     "name": "stdout",
     "output_type": "stream",
     "text": [
      "Loc1 is (0, 5), loc2 is (4, 0). Euclidian disctance is 6.4031242374328485.\n"
     ]
    }
   ],
   "source": [
    "if __name__ == '__main__':\n",
    "    print(euclidean_distance_test())"
   ]
  },
  {
   "cell_type": "markdown",
   "metadata": {
    "id": "lTuFruDrvnnR"
   },
   "source": [
    "### String Operations"
   ]
  },
  {
   "cell_type": "code",
   "execution_count": 29,
   "metadata": {
    "id": "AGJHIeXkvnnS"
   },
   "outputs": [],
   "source": [
    "''' Alphabetically first word\n",
    "Given a string, lowecase, sort our all words in the alphabetical order and return the word that comes first.\n",
    "If the input text is an empty string, return an empty string or throw an error. '''\n",
    "\n",
    "def first_word(text: str) -> str:\n",
    "    \n",
    "    # BEGIN_YOUR_CODE\n",
    "    return sorted(text.lower().split(' '))[0]\n",
    "    \n",
    "    # END_YOUR_CODE"
   ]
  },
  {
   "cell_type": "code",
   "execution_count": 30,
   "metadata": {
    "id": "Suevhw9TvnnS"
   },
   "outputs": [],
   "source": [
    "def first_word_test():\n",
    "    result0 = first_word('WelCome tO Ub')\n",
    "    result1 = first_word('CSE574 IntRo to ML cLasS')\n",
    "    result2 = first_word('SequenCes of DeCiSions')\n",
    "    result3 = first_word('Wolf, Panther, Leopard, Dog, Cat')\n",
    "    return result0, result1, result2, result3"
   ]
  },
  {
   "cell_type": "code",
   "execution_count": 31,
   "metadata": {
    "colab": {
     "base_uri": "https://localhost:8080/"
    },
    "id": "DfSoFXLrvnnT",
    "outputId": "3d6d98f7-6ba5-41da-f3f1-2bfd7f048955"
   },
   "outputs": [
    {
     "name": "stdout",
     "output_type": "stream",
     "text": [
      "('to', 'class', 'decisions', 'cat')\n"
     ]
    }
   ],
   "source": [
    "if __name__ == '__main__':\n",
    "    print(first_word_test())"
   ]
  },
  {
   "cell_type": "markdown",
   "metadata": {
    "id": "zW6tTqawDOBv"
   },
   "source": [
    "## Load from Drive*\n",
    "\n",
    "*If you are using Goolge Colab, uncomment the following piece of code and verify the file using the command, if you can see your file ```museum.csv``` you are good to go."
   ]
  },
  {
   "cell_type": "code",
   "execution_count": 32,
   "metadata": {},
   "outputs": [],
   "source": [
    "# !pwd\n",
    "# !ls"
   ]
  },
  {
   "cell_type": "code",
   "execution_count": 33,
   "metadata": {
    "id": "nV7Jv5SPDGsy"
   },
   "outputs": [],
   "source": [
    "#from google.colab import drive\n",
    "#drive.mount('/content/drive')\n",
    "#%cd ..\n",
    "#%cd /content/drive/MyDrive"
   ]
  },
  {
   "cell_type": "markdown",
   "metadata": {
    "id": "zGMa8NVpvnnU"
   },
   "source": [
    "<a id='part4'></a>\n",
    "##  Part 4 - Pandas Basics [20 points]\n",
    "\n",
    "Some important resources:\n",
    "\n",
    "- [A Pandas guide](https://pandasguide.readthedocs.io/en/latest/) covers fundamental information about the package\n",
    "\n",
    "- [Pandas Cheat Sheet](https://www.datacamp.com/community/blog/python-pandas-cheat-sheet)"
   ]
  },
  {
   "cell_type": "code",
   "execution_count": 34,
   "metadata": {
    "id": "-JA6l-hpvnnU"
   },
   "outputs": [],
   "source": [
    "'''Install and import pandas library\n",
    "'''\n",
    "\n",
    "# BEGIN_YOUR_CODE\n",
    "import pandas as pd\n",
    "# END_YOUR_CODE"
   ]
  },
  {
   "cell_type": "code",
   "execution_count": 35,
   "metadata": {
    "colab": {
     "base_uri": "https://localhost:8080/",
     "height": 610
    },
    "id": "vNYL_RNyvnnV",
    "outputId": "dc638bb0-e611-4d0b-8d0b-03dc0d8e0906"
   },
   "outputs": [
    {
     "name": "stderr",
     "output_type": "stream",
     "text": [
      "/Users/volkopat/opt/anaconda3/envs/ComputerVision/lib/python3.7/site-packages/IPython/core/interactiveshell.py:3457: DtypeWarning: Columns (9,14,21) have mixed types.Specify dtype option on import or set low_memory=False.\n",
      "  exec(code_obj, self.user_global_ns, self.user_ns)\n"
     ]
    }
   ],
   "source": [
    "'''Read given 'DataFile' and extract into Dataframe\n",
    "'''\n",
    "\n",
    "# BEGIN_YOUR_CODE\n",
    "file = pd.read_csv('museums.csv')\n",
    "# END_YOUR_CODE"
   ]
  },
  {
   "cell_type": "code",
   "execution_count": 36,
   "metadata": {
    "colab": {
     "base_uri": "https://localhost:8080/",
     "height": 312
    },
    "id": "nQhbLF7CvnnV",
    "outputId": "b2760574-8b6d-445d-cfe2-429e33b38825"
   },
   "outputs": [
    {
     "name": "stdout",
     "output_type": "stream",
     "text": [
      "Museum ID                       8.403812e+09\n",
      "Zip Code (Physical Location)    4.780564e+04\n",
      "Latitude                        3.892537e+01\n",
      "Longitude                      -9.081676e+01\n",
      "Locale Code (NCES)              2.505834e+00\n",
      "County Code (FIPS)              8.570193e+01\n",
      "State Code (FIPS)               2.906583e+01\n",
      "Region Code (AAM)               3.670083e+00\n",
      "Tax Period                      2.013475e+05\n",
      "Income                          1.069682e+08\n",
      "Revenue                         2.097605e+07\n",
      "dtype: float64\n",
      " \n",
      "Museum ID                       2.662542e+06\n",
      "Zip Code (Physical Location)    3.021027e+04\n",
      "Latitude                        5.126213e+00\n",
      "Longitude                       1.648909e+01\n",
      "Locale Code (NCES)              1.211841e+00\n",
      "County Code (FIPS)              1.056683e+02\n",
      "State Code (FIPS)               1.543125e+01\n",
      "Region Code (AAM)               1.539274e+00\n",
      "Tax Period                      6.767074e+01\n",
      "Income                          2.509287e+09\n",
      "Revenue                         2.485197e+08\n",
      "dtype: float64\n"
     ]
    },
    {
     "name": "stderr",
     "output_type": "stream",
     "text": [
      "/Users/volkopat/opt/anaconda3/envs/ComputerVision/lib/python3.7/site-packages/ipykernel_launcher.py:5: FutureWarning: Dropping of nuisance columns in DataFrame reductions (with 'numeric_only=None') is deprecated; in a future version this will raise TypeError.  Select only valid columns before calling the reduction.\n",
      "  \"\"\"\n",
      "/Users/volkopat/opt/anaconda3/envs/ComputerVision/lib/python3.7/site-packages/ipykernel_launcher.py:7: FutureWarning: Dropping of nuisance columns in DataFrame reductions (with 'numeric_only=None') is deprecated; in a future version this will raise TypeError.  Select only valid columns before calling the reduction.\n",
      "  import sys\n"
     ]
    }
   ],
   "source": [
    "'''Provide the main statistics about the entries of the dataset (mean, std, etc.)\n",
    "'''\n",
    "\n",
    "# BEGIN_YOUR_CODE\n",
    "print(file.mean())\n",
    "print(\" \")\n",
    "print(file.std())\n",
    "# END_YOUR_CODE"
   ]
  },
  {
   "cell_type": "code",
   "execution_count": 37,
   "metadata": {
    "colab": {
     "base_uri": "https://localhost:8080/"
    },
    "id": "JnuZGhGwvnnW",
    "outputId": "632299d2-4913-40af-95f4-82ba06f9a477"
   },
   "outputs": [
    {
     "name": "stdout",
     "output_type": "stream",
     "text": [
      "(33072, 25)\n"
     ]
    }
   ],
   "source": [
    "''' Print shape of the dataset '''\n",
    "\n",
    "# BEGIN_YOUR_CODE\n",
    "print(file.shape)\n",
    "# END_YOUR_CODE"
   ]
  },
  {
   "cell_type": "code",
   "execution_count": 38,
   "metadata": {
    "colab": {
     "base_uri": "https://localhost:8080/"
    },
    "id": "nFWD5zl8vnne",
    "outputId": "6e1ba9b2-534f-4273-d015-b08128a3b9fe"
   },
   "outputs": [
    {
     "name": "stdout",
     "output_type": "stream",
     "text": [
      "Index(['Museum ID', 'Museum Name', 'Legal Name', 'Alternate Name',\n",
      "       'Museum Type', 'Institution Name',\n",
      "       'Street Address (Administrative Location)',\n",
      "       'City (Administrative Location)', 'State (Administrative Location)',\n",
      "       'Zip Code (Administrative Location)',\n",
      "       'Street Address (Physical Location)', 'City (Physical Location)',\n",
      "       'State (Physical Location)', 'Zip Code (Physical Location)',\n",
      "       'Phone Number', 'Latitude', 'Longitude', 'Locale Code (NCES)',\n",
      "       'County Code (FIPS)', 'State Code (FIPS)', 'Region Code (AAM)',\n",
      "       'Employer ID Number', 'Tax Period', 'Income', 'Revenue'],\n",
      "      dtype='object')\n"
     ]
    }
   ],
   "source": [
    "''' Return all the colums names'''\n",
    "\n",
    "# BEGIN_YOUR_CODE\n",
    "print(file.columns)\n",
    "# END_YOUR_CODE"
   ]
  },
  {
   "cell_type": "code",
   "execution_count": 39,
   "metadata": {
    "colab": {
     "base_uri": "https://localhost:8080/"
    },
    "id": "6-1Dj0sGvnng",
    "outputId": "5fd43650-6e73-45a2-9161-77684330f89f"
   },
   "outputs": [
    {
     "name": "stdout",
     "output_type": "stream",
     "text": [
      "HISTORY MUSEUM\n",
      "ARBORETUM, BOTANICAL GARDEN, OR NATURE CENTER\n",
      "SCIENCE & TECHNOLOGY MUSEUM OR PLANETARIUM\n",
      "HISTORIC PRESERVATION\n",
      "GENERAL MUSEUM\n",
      "ZOO, AQUARIUM, OR WILDLIFE CONSERVATION\n",
      "ART MUSEUM\n",
      "CHILDREN'S MUSEUM\n",
      "NATURAL HISTORY MUSEUM\n"
     ]
    }
   ],
   "source": [
    "''' Print a list of museums types '''\n",
    "\n",
    "# BEGIN_YOUR_CODE\n",
    "for i in file['Museum Type'].unique():\n",
    "    print(i)\n",
    "# END_YOUR_CODE"
   ]
  },
  {
   "cell_type": "code",
   "execution_count": 40,
   "metadata": {
    "colab": {
     "base_uri": "https://localhost:8080/"
    },
    "id": "wUSzjQC3vnng",
    "outputId": "fcc6bb9b-01e8-4d31-8580-c621cb1bcc36"
   },
   "outputs": [
    {
     "name": "stdout",
     "output_type": "stream",
     "text": [
      "<bound method NDFrame.describe of         Museum ID                                        Museum Name  \\\n",
      "0      8400200098                    ALASKA AVIATION HERITAGE MUSEUM   \n",
      "1      8400200117                            ALASKA BOTANICAL GARDEN   \n",
      "2      8400200153  ALASKA CHALLENGER CENTER FOR SPACE SCIENCE TEC...   \n",
      "3      8400200143                ALASKA EDUCATORS HISTORICAL SOCIETY   \n",
      "4      8400200027                             ALASKA HERITAGE MUSEUM   \n",
      "...           ...                                                ...   \n",
      "33067  8405600184                   WYOMING STATE HISTORICAL SOCIETY   \n",
      "33068  8405600061                               WYOMING STATE MUSEUM   \n",
      "33069  8405600158      WYOMING TERRITORIAL PARK HISTORIC ASSOCIATION   \n",
      "33070  8405600137                      WYOMING TRANSPORTATION MUSEUM   \n",
      "33071  8405600199                          YELLOWSTONE NATIONAL PARK   \n",
      "\n",
      "                                              Legal Name Alternate Name  \\\n",
      "0                        ALASKA AVIATION HERITAGE MUSEUM            NaN   \n",
      "1                            ALASKA BOTANICAL GARDEN INC            NaN   \n",
      "2      ALASKA CHALLENGER CENTER FOR SPACE SCIENCE TEC...            NaN   \n",
      "3                    ALASKA EDUCATORS HISTORICAL SOCIETY            NaN   \n",
      "4                        ALASKA AVIATION HERITAGE MUSEUM            NaN   \n",
      "...                                                  ...            ...   \n",
      "33067                   WYOMING STATE HISTORICAL SOCIETY            NaN   \n",
      "33068                WYOMING STATE MUSEUM VOLUNTEERS INC            NaN   \n",
      "33069  WYOMING TERRITORIAL PARK HISTORIC ASSOCIATION INC            NaN   \n",
      "33070                 WYOMING TRANSPORTATION MUSEUM CORP            NaN   \n",
      "33071                  LITTLE PEOPLE LEARNING CENTER INC            NaN   \n",
      "\n",
      "                                         Museum Type Institution Name  \\\n",
      "0                                     HISTORY MUSEUM              NaN   \n",
      "1      ARBORETUM, BOTANICAL GARDEN, OR NATURE CENTER              NaN   \n",
      "2         SCIENCE & TECHNOLOGY MUSEUM OR PLANETARIUM              NaN   \n",
      "3                              HISTORIC PRESERVATION              NaN   \n",
      "4                                     HISTORY MUSEUM              NaN   \n",
      "...                                              ...              ...   \n",
      "33067                          HISTORIC PRESERVATION              NaN   \n",
      "33068                                 GENERAL MUSEUM              NaN   \n",
      "33069                          HISTORIC PRESERVATION              NaN   \n",
      "33070                                 HISTORY MUSEUM              NaN   \n",
      "33071                          HISTORIC PRESERVATION              NaN   \n",
      "\n",
      "      Street Address (Administrative Location) City (Administrative Location)  \\\n",
      "0                             4721 AIRCRAFT DR                      ANCHORAGE   \n",
      "1                    4601 CAMPBELL AIRSTRIP RD                      ANCHORAGE   \n",
      "2                          9711 KENAI SPUR HWY                          KENAI   \n",
      "3                             214 BIRCH STREET                          KENAI   \n",
      "4                   301 W NORTHERN LIGHTS BLVD                      ANCHORAGE   \n",
      "...                                        ...                            ...   \n",
      "33067                                PO BOX 73                       SHERIDAN   \n",
      "33068                      2301 CENTRAL AVENUE                       CHEYENNE   \n",
      "33069                   1273 N 15TH ST STE 121                        LARAMIE   \n",
      "33070                               PO BOX 704                       CHEYENNE   \n",
      "33071                    NATIONAL PARK SERVICE      YELLOWSTONE NATIONAL PARK   \n",
      "\n",
      "      State (Administrative Location) Zip Code (Administrative Location)  ...  \\\n",
      "0                                  AK                              99502  ...   \n",
      "1                                  AK                              99507  ...   \n",
      "2                                  AK                              99611  ...   \n",
      "3                                  AK                              99611  ...   \n",
      "4                                  AK                              99503  ...   \n",
      "...                               ...                                ...  ...   \n",
      "33067                              WY                              82801  ...   \n",
      "33068                              WY                              82001  ...   \n",
      "33069                              WY                              82072  ...   \n",
      "33070                              WY                              82003  ...   \n",
      "33071                              WY                              82190  ...   \n",
      "\n",
      "       Latitude  Longitude Locale Code (NCES)  County Code (FIPS)  \\\n",
      "0      61.17925 -149.97254                1.0                20.0   \n",
      "1      61.16890 -149.76708                4.0                20.0   \n",
      "2      60.56149 -151.21598                3.0               122.0   \n",
      "3      60.56280 -151.26597                3.0               122.0   \n",
      "4      61.17925 -149.97254                1.0                20.0   \n",
      "...         ...        ...                ...                 ...   \n",
      "33067  44.82345 -106.87592                4.0                33.0   \n",
      "33068  41.13941 -104.81813                1.0                21.0   \n",
      "33069  41.32276 -105.57686                3.0                 1.0   \n",
      "33070  41.13010 -104.81916                1.0                21.0   \n",
      "33071  44.91303 -110.41584                4.0                29.0   \n",
      "\n",
      "      State Code (FIPS)  Region Code (AAM)  Employer ID Number  Tax Period  \\\n",
      "0                   2.0                  6           920071852    201312.0   \n",
      "1                   2.0                  6           920115504    201312.0   \n",
      "2                   2.0                  6           921761906    201312.0   \n",
      "3                   2.0                  6           920165178    201412.0   \n",
      "4                   2.0                  6           920071852    201312.0   \n",
      "...                 ...                ...                 ...         ...   \n",
      "33067              56.0                  5         836007540.0         NaN   \n",
      "33068              56.0                  5         237368629.0    201404.0   \n",
      "33069              56.0                  5         830318392.0    201312.0   \n",
      "33070              56.0                  5         830295570.0    201309.0   \n",
      "33071              56.0                  5         830249072.0    201312.0   \n",
      "\n",
      "          Income    Revenue  \n",
      "0       602912.0   550236.0  \n",
      "1      1379576.0  1323742.0  \n",
      "2       740030.0   729080.0  \n",
      "3            0.0        0.0  \n",
      "4       602912.0   550236.0  \n",
      "...          ...        ...  \n",
      "33067        NaN        NaN  \n",
      "33068        0.0        0.0  \n",
      "33069   208508.0    83981.0  \n",
      "33070        0.0        0.0  \n",
      "33071   127496.0   126762.0  \n",
      "\n",
      "[33072 rows x 25 columns]>\n"
     ]
    }
   ],
   "source": [
    "''' Return insight about index(columns) of museum.csv '''\n",
    "\n",
    "# BEGIN_YOUR_CODE\n",
    "print(file.describe)\n",
    "# END_YOUR_CODE"
   ]
  },
  {
   "cell_type": "code",
   "execution_count": 41,
   "metadata": {},
   "outputs": [
    {
     "name": "stdout",
     "output_type": "stream",
     "text": [
      "    Museum ID                                        Museum Name  \\\n",
      "0  8400200098                    ALASKA AVIATION HERITAGE MUSEUM   \n",
      "1  8400200117                            ALASKA BOTANICAL GARDEN   \n",
      "2  8400200153  ALASKA CHALLENGER CENTER FOR SPACE SCIENCE TEC...   \n",
      "3  8400200143                ALASKA EDUCATORS HISTORICAL SOCIETY   \n",
      "4  8400200027                             ALASKA HERITAGE MUSEUM   \n",
      "5  8400200096                           ALASKA HISTORICAL MUSEUM   \n",
      "6  8400200078                               ALASKA JEWISH MUSEUM   \n",
      "7  8400200084                      ALASKA LIGHTHOUSE ASSOCIATION   \n",
      "8  8400200107       ALASKA MASONIC LIBRARY AND MUSEUM FOUNDATION   \n",
      "9  8400200073              ALASKA MINING HALL OF FAME FOUNDATION   \n",
      "\n",
      "                                          Legal Name Alternate Name  \\\n",
      "0                    ALASKA AVIATION HERITAGE MUSEUM            NaN   \n",
      "1                        ALASKA BOTANICAL GARDEN INC            NaN   \n",
      "2  ALASKA CHALLENGER CENTER FOR SPACE SCIENCE TEC...            NaN   \n",
      "3                ALASKA EDUCATORS HISTORICAL SOCIETY            NaN   \n",
      "4                    ALASKA AVIATION HERITAGE MUSEUM            NaN   \n",
      "5                       ALASKA HISTORICAL MUSEUM INC            NaN   \n",
      "6  ALASKA JEWISH HISTORICAL MUSEUM AND CULTURAL C...            NaN   \n",
      "7                      ALASKA LIGHTHOUSE ASSOCIATION            NaN   \n",
      "8       ALASKA MASONIC LIBRARY AND MUSEUM FOUNDATION            NaN   \n",
      "9              ALASKA MINING HALL OF FAME FOUNDATION            NaN   \n",
      "\n",
      "                                     Museum Type Institution Name  \\\n",
      "0                                 HISTORY MUSEUM              NaN   \n",
      "1  ARBORETUM, BOTANICAL GARDEN, OR NATURE CENTER              NaN   \n",
      "2     SCIENCE & TECHNOLOGY MUSEUM OR PLANETARIUM              NaN   \n",
      "3                          HISTORIC PRESERVATION              NaN   \n",
      "4                                 HISTORY MUSEUM              NaN   \n",
      "5                          HISTORIC PRESERVATION              NaN   \n",
      "6                                 GENERAL MUSEUM              NaN   \n",
      "7                          HISTORIC PRESERVATION              NaN   \n",
      "8                                 GENERAL MUSEUM              NaN   \n",
      "9                                 HISTORY MUSEUM              NaN   \n",
      "\n",
      "  Street Address (Administrative Location) City (Administrative Location)  \\\n",
      "0                         4721 AIRCRAFT DR                      ANCHORAGE   \n",
      "1                4601 CAMPBELL AIRSTRIP RD                      ANCHORAGE   \n",
      "2                      9711 KENAI SPUR HWY                          KENAI   \n",
      "3                         214 BIRCH STREET                          KENAI   \n",
      "4               301 W NORTHERN LIGHTS BLVD                      ANCHORAGE   \n",
      "5                           1675 E 5TH AVE                      ANCHORAGE   \n",
      "6                          1117 E 35TH AVE                      ANCHORAGE   \n",
      "7                            2116 B 2ND ST                        DOUGLAS   \n",
      "8                            PO BOX 190668                      ANCHORAGE   \n",
      "9                             PO BOX 81906                      FAIRBANKS   \n",
      "\n",
      "  State (Administrative Location) Zip Code (Administrative Location)  ...  \\\n",
      "0                              AK                              99502  ...   \n",
      "1                              AK                              99507  ...   \n",
      "2                              AK                              99611  ...   \n",
      "3                              AK                              99611  ...   \n",
      "4                              AK                              99503  ...   \n",
      "5                              AK                              99501  ...   \n",
      "6                              AK                              99508  ...   \n",
      "7                              AK                              99824  ...   \n",
      "8                              AK                              99519  ...   \n",
      "9                              AK                              99708  ...   \n",
      "\n",
      "   Latitude  Longitude Locale Code (NCES)  County Code (FIPS)  \\\n",
      "0  61.17925 -149.97254                1.0                20.0   \n",
      "1  61.16890 -149.76708                4.0                20.0   \n",
      "2  60.56149 -151.21598                3.0               122.0   \n",
      "3  60.56280 -151.26597                3.0               122.0   \n",
      "4  61.17925 -149.97254                1.0                20.0   \n",
      "5  61.21785 -149.85049                1.0                20.0   \n",
      "6  61.18946 -149.86071                1.0                20.0   \n",
      "7  58.28299 -134.40583                3.0               110.0   \n",
      "8  61.21833 -149.89456                1.0                20.0   \n",
      "9  64.85079 -147.82945                2.0                90.0   \n",
      "\n",
      "  State Code (FIPS)  Region Code (AAM)  Employer ID Number  Tax Period  \\\n",
      "0               2.0                  6           920071852    201312.0   \n",
      "1               2.0                  6           920115504    201312.0   \n",
      "2               2.0                  6           921761906    201312.0   \n",
      "3               2.0                  6           920165178    201412.0   \n",
      "4               2.0                  6           920071852    201312.0   \n",
      "5               2.0                  6           920062352         NaN   \n",
      "6               2.0                  6           711010049    201312.0   \n",
      "7               2.0                  6           911833974    201312.0   \n",
      "8               2.0                  6           920095561    201406.0   \n",
      "9               2.0                  6           550819611    201412.0   \n",
      "\n",
      "      Income    Revenue  \n",
      "0   602912.0   550236.0  \n",
      "1  1379576.0  1323742.0  \n",
      "2   740030.0   729080.0  \n",
      "3        0.0        0.0  \n",
      "4   602912.0   550236.0  \n",
      "5        NaN        NaN  \n",
      "6  2658938.0    34374.0  \n",
      "7    16500.0    16500.0  \n",
      "8        0.0        0.0  \n",
      "9   184295.0    31393.0  \n",
      "\n",
      "[10 rows x 25 columns]\n"
     ]
    }
   ],
   "source": [
    "'''Print top 10 rows of the dataset'''\n",
    "\n",
    "# BEGIN_YOUR_CODE\n",
    "print(file[:10])\n",
    "# END_YOUR_CODE"
   ]
  },
  {
   "cell_type": "markdown",
   "metadata": {
    "id": "YNq5ppEGvnnh"
   },
   "source": [
    "<a id='part5'></a>\n",
    "## Matplotlib Basics [20 points]"
   ]
  },
  {
   "cell_type": "markdown",
   "metadata": {
    "id": "MyidlhZlIPa2"
   },
   "source": [
    "Heatmaps are a useful plot tool which help us visualize the data density or distribution. Refer the below documentation for more details on heatmap.\n",
    "\n",
    "[Matplotlib tutorial](https://machinelearningknowledge.ai/matplotlib-heatmap-complete-tutorial-for-beginners/)\n",
    "\n",
    "**Note:** You can only use matplotlib library for the following tasks"
   ]
  },
  {
   "cell_type": "code",
   "execution_count": 42,
   "metadata": {
    "id": "bfFqEdGEvnnh"
   },
   "outputs": [],
   "source": [
    "''' Install and import matplotlib library\n",
    "'''\n",
    "\n",
    "# BEGIN_YOUR_CODE\n",
    "import matplotlib.pyplot as plt\n",
    "# END_YOUR_CODE"
   ]
  },
  {
   "cell_type": "code",
   "execution_count": 141,
   "metadata": {
    "colab": {
     "base_uri": "https://localhost:8080/",
     "height": 282
    },
    "id": "25-jR3OHstb_",
    "outputId": "39eaa5da-3359-4016-9202-41a575d92e37"
   },
   "outputs": [
    {
     "data": {
      "image/png": "[encoded data removed]",
      "text/plain": [
       "<Figure size 432x288 with 1 Axes>"
      ]
     },
     "metadata": {
      "needs_background": "light"
     },
     "output_type": "display_data"
    }
   ],
   "source": [
    "''' Heatmap\n",
    "Take any random numpy array of dimension 10x15 and plot a heatmap\n",
    "'''\n",
    "\n",
    "# BEGIN YOUR CODE\n",
    "A = np.reshape([np.random.rand(150)], (10, 15))\n",
    "plt.imshow(A, cmap='ocean', interpolation='nearest')\n",
    "plt.show()\n",
    "# END YOUR CODE"
   ]
  },
  {
   "cell_type": "code",
   "execution_count": 44,
   "metadata": {
    "colab": {
     "base_uri": "https://localhost:8080/",
     "height": 265
    },
    "id": "VD6WIdUU4-PA",
    "outputId": "26c87f7b-3c6d-4d3c-a218-6b34d1fe0f53"
   },
   "outputs": [
    {
     "data": {
      "text/plain": [
       "[<matplotlib.lines.Line2D at 0x7f8f5999d0d0>]"
      ]
     },
     "execution_count": 44,
     "metadata": {},
     "output_type": "execute_result"
    },
    {
     "data": {
      "image/png": "[encoded data removed]",
      "text/plain": [
       "<Figure size 432x288 with 1 Axes>"
      ]
     },
     "metadata": {
      "needs_background": "light"
     },
     "output_type": "display_data"
    }
   ],
   "source": [
    "'''For the given value x plot the function y = 1/x using list comprehension on y.\n",
    "You can check https://docs.python.org/3/tutorial/datastructures.html#list-comprehensions to learn how to use list comprehension\n",
    "'''\n",
    "\n",
    "x = range(25)\n",
    "\n",
    "# BEGIN YOUR CODE\n",
    "y = [1/(i+1) for i in x]\n",
    "plt.plot(x,y)\n",
    "# END YOUR CODE"
   ]
  },
  {
   "cell_type": "code",
   "execution_count": 45,
   "metadata": {
    "colab": {
     "base_uri": "https://localhost:8080/",
     "height": 268
    },
    "id": "GB4uqfd8K495",
    "outputId": "7b073e40-da0a-4654-ecc4-031252f8df69"
   },
   "outputs": [
    {
     "data": {
      "text/plain": [
       "[<matplotlib.lines.Line2D at 0x7f8f70a1c1d0>]"
      ]
     },
     "execution_count": 45,
     "metadata": {},
     "output_type": "execute_result"
    },
    {
     "data": {
      "image/png": "[encoded data removed]",
      "text/plain": [
       "<Figure size 432x288 with 1 Axes>"
      ]
     },
     "metadata": {
      "needs_background": "light"
     },
     "output_type": "display_data"
    }
   ],
   "source": [
    "'''For the given value x plot the function y = x^2 using lambda function y.\n",
    "\n",
    "Lambda function is a small anonymous function which consist of a single expression, and is usually used when we need the function for a smaller duration\n",
    "https://realpython.com/python-lambda/\n",
    "'''\n",
    "\n",
    "x = range(25)\n",
    "\n",
    "# BEGIN YOUR CODE\n",
    "func = lambda x : np.power(x,2)\n",
    "y = [i for i in func(x)]\n",
    "plt.plot(x,y)\n",
    "# END YOUR CODE\n"
   ]
  },
  {
   "cell_type": "code",
   "execution_count": 46,
   "metadata": {},
   "outputs": [
    {
     "data": {
      "text/plain": [
       "<matplotlib.collections.PathCollection at 0x7f8f598b1250>"
      ]
     },
     "execution_count": 46,
     "metadata": {},
     "output_type": "execute_result"
    },
    {
     "data": {
      "image/png": "[encoded data removed]",
      "text/plain": [
       "<Figure size 432x288 with 1 Axes>"
      ]
     },
     "metadata": {
      "needs_background": "light"
     },
     "output_type": "display_data"
    }
   ],
   "source": [
    "'''On one graph draw two lines:\n",
    "1) Plot the function y = x^2 using lambda function y (use your code from above)\n",
    "2) A scatter plot for y = x^3 using either list comprehension or lambda function for evaluating y\n",
    "'''\n",
    "\n",
    "x = range(25)\n",
    "\n",
    "# BEGIN YOUR CODE\n",
    "func = lambda x : np.power(x,2)\n",
    "y = [i for i in func(x)]\n",
    "plt.plot(x,y)\n",
    "\n",
    "func = lambda x : np.power(x,3)\n",
    "y = [i for i in func(x)]\n",
    "plt.scatter(x,y)\n",
    "# END YOUR CODE"
   ]
  },
  {
   "cell_type": "code",
   "execution_count": 139,
   "metadata": {
    "colab": {
     "base_uri": "https://localhost:8080/",
     "height": 265
    },
    "id": "AEbDCKYH7UfV",
    "outputId": "91484bff-8e4d-4901-e799-b38f48d5fadd"
   },
   "outputs": [
    {
     "data": {
      "text/plain": [
       "[<matplotlib.lines.Line2D at 0x7f8f8a79bf10>]"
      ]
     },
     "execution_count": 139,
     "metadata": {},
     "output_type": "execute_result"
    },
    {
     "data": {
      "image/png": "[encoded data removed]",
      "text/plain": [
       "<Figure size 2160x720 with 2 Axes>"
      ]
     },
     "metadata": {
      "needs_background": "light"
     },
     "output_type": "display_data"
    }
   ],
   "source": [
    "'''Create subplots showing graphs of tan and cot side by side of each other\n",
    "the value of theta ranges from -30 to 30\n",
    "\n",
    "HINT: You might want to utilize np.linespace() or np.arrange() to create smooth curves\n",
    "'''\n",
    "\n",
    "import math\n",
    "\n",
    "# BEGIN YOUR CODE\n",
    "x = np.linspace(-30, 30, 1000)\n",
    "y = np.tan(x)\n",
    "plt.figure(figsize=(30, 10))\n",
    "plt.subplot(1, 2, 1)\n",
    "plt.plot(x, y)\n",
    "\n",
    "y = 1/np.tan(x)\n",
    "plt.subplot(1, 2, 2)\n",
    "plt.plot(x, y)\n",
    "# END YOUR CODE"
   ]
  },
  {
   "cell_type": "code",
   "execution_count": 110,
   "metadata": {},
   "outputs": [
    {
     "data": {
      "text/plain": [
       "[<matplotlib.lines.Line2D at 0x7fa1701f7430>]"
      ]
     },
     "execution_count": 110,
     "metadata": {},
     "output_type": "execute_result"
    },
    {
     "data": {
      "image/png": "[encoded data removed]",
      "text/plain": [
       "<Figure size 432x288 with 1 Axes>"
      ]
     },
     "metadata": {
      "needs_background": "light"
     },
     "output_type": "display_data"
    }
   ],
   "source": [
    "'''Draw a line for given GPAs of students [3.5, 2.3, 3.8, 2.4, 2.9, 3.3] using markers\n",
    "'''\n",
    "\n",
    "# BEGIN_YOUR_CODE\n",
    "x = [3.5, 2.3, 3.8, 2.4, 2.9, 3.3]\n",
    "plt.plot(x, marker=\"o\")\n",
    "# END_YOUR_CODE"
   ]
  },
  {
   "cell_type": "code",
   "execution_count": 115,
   "metadata": {},
   "outputs": [
    {
     "name": "stdout",
     "output_type": "stream",
     "text": [
      "HISTORIC PRESERVATION                            14861\n",
      "GENERAL MUSEUM                                    8699\n",
      "ART MUSEUM                                        3241\n",
      "HISTORY MUSEUM                                    2284\n",
      "ARBORETUM, BOTANICAL GARDEN, OR NATURE CENTER     1484\n",
      "SCIENCE & TECHNOLOGY MUSEUM OR PLANETARIUM        1081\n",
      "ZOO, AQUARIUM, OR WILDLIFE CONSERVATION            564\n",
      "CHILDREN'S MUSEUM                                  512\n",
      "NATURAL HISTORY MUSEUM                             346\n",
      "Name: Museum Type, dtype: int64\n"
     ]
    },
    {
     "data": {
      "text/plain": [
       "<AxesSubplot:>"
      ]
     },
     "execution_count": 115,
     "metadata": {},
     "output_type": "execute_result"
    },
    {
     "data": {
      "image/png": "[encoded data removed]",
      "text/plain": [
       "<Figure size 720x720 with 1 Axes>"
      ]
     },
     "metadata": {
      "needs_background": "light"
     },
     "output_type": "display_data"
    }
   ],
   "source": [
    "''' Museum (\"museum.csv\"): total number of museums per type\n",
    "\n",
    "Plot a bar graph which shows the total number of museums in USA corresponding to the museum type\n",
    "'''\n",
    "\n",
    "# BEGIN YOUR CODE\n",
    "print(file['Museum Type'].value_counts())\n",
    "file['Museum Type'].value_counts().plot(kind='bar', figsize=(10, 10),rot = 45)\n",
    "# END YOUR CODE"
   ]
  },
  {
   "cell_type": "code",
   "execution_count": 112,
   "metadata": {
    "colab": {
     "base_uri": "https://localhost:8080/",
     "height": 264
    },
    "id": "yENY45pIs_S9",
    "outputId": "5c7a6231-46fa-4d86-8e8d-a5e1b09fd8bf"
   },
   "outputs": [
    {
     "data": {
      "text/plain": [
       "[<matplotlib.lines.Line2D at 0x7f8f5a996d50>]"
      ]
     },
     "execution_count": 112,
     "metadata": {},
     "output_type": "execute_result"
    },
    {
     "data": {
      "image/png": "[encoded data removed]",
      "text/plain": [
       "<Figure size 1440x360 with 1 Axes>"
      ]
     },
     "metadata": {
      "needs_background": "light"
     },
     "output_type": "display_data"
    }
   ],
   "source": [
    "''' Museum (\"museum.csv\"): total number of museums per state\n",
    "\n",
    "Plot a graph which shows the total number of museums per each state (\"State (Physical Location)\")\n",
    "'''\n",
    "\n",
    "# BEGIN YOUR CODE\n",
    "y = file['State (Physical Location)'].value_counts()\n",
    "plt.figure(figsize=(20, 5))\n",
    "plt.plot(y)\n",
    "# END YOUR CODE"
   ]
  },
  {
   "cell_type": "markdown",
   "metadata": {
    "id": "Oo6h1NH6R6Pq"
   },
   "source": [
    "#### Results analyzing\n",
    "\n",
    "Analyze the graph and answer the following two questions:\n",
    "\n",
    "**1) What is your inference from the above graph?**\n",
    "\n",
    "*YOUR ANSWER:* New York has the highest number of museums = 633,\n",
    "Delaware has the lowest number of museums = 39\n",
    "\n",
    "**2) Which state has the most number of museum?**\n",
    "\n",
    "*YOUR ANSWER:* New York\n",
    "\n",
    "**3) Which is the most common type of museum?**\n",
    "\n",
    "*YOUR ANSWER:* Historic Preservation\n"
   ]
  },
  {
   "cell_type": "markdown",
   "metadata": {
    "id": "toxZCPhevnni"
   },
   "source": [
    "## References Used\n",
    "\n",
    "**List below all the references you used to complete the assignment**"
   ]
  },
  {
   "cell_type": "code",
   "execution_count": null,
   "metadata": {
    "id": "YW_6TvjFrilZ"
   },
   "outputs": [],
   "source": [
    "https://realpython.com/python-enumerate/\n",
    "https://www.geeksforgeeks.org"
   ]
  }
 ],
 "metadata": {
  "celltoolbar": "Raw Cell Format",
  "colab": {
   "collapsed_sections": [
    "uiyFNoJivnnQ",
    "bE9PC_sEvnnQ",
    "lTuFruDrvnnR",
    "zGMa8NVpvnnU",
    "toxZCPhevnni"
   ],
   "name": "fall21_eas595_Assignmnet1[INTERNAL].ipynb",
   "provenance": []
  },
  "kernelspec": {
   "display_name": "Python 3 (ipykernel)",
   "language": "python",
   "name": "python3"
  },
  "language_info": {
   "codemirror_mode": {
    "name": "ipython",
    "version": 3
   },
   "file_extension": ".py",
   "mimetype": "text/x-python",
   "name": "python",
   "nbconvert_exporter": "python",
   "pygments_lexer": "ipython3",
   "version": "3.7.11"
  }
 },
 "nbformat": 4,
 "nbformat_minor": 4
}
